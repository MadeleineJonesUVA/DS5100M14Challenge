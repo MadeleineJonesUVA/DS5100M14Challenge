{
 "cells": [
  {
   "cell_type": "code",
   "execution_count": 1,
   "id": "8b1f96c3",
   "metadata": {},
   "outputs": [
    {
     "name": "stdout",
     "output_type": "stream",
     "text": [
      "You made it! Ask for your fortune!\n"
     ]
    }
   ],
   "source": [
    "from demo import *"
   ]
  },
  {
   "cell_type": "code",
   "execution_count": 2,
   "id": "10352b17",
   "metadata": {},
   "outputs": [
    {
     "name": "stdout",
     "output_type": "stream",
     "text": [
      "Leah, your will have a birthday within the next year\n"
     ]
    }
   ],
   "source": [
    "fortune('Leah', 24)"
   ]
  }
 ],
 "metadata": {
  "kernelspec": {
   "display_name": "Python 3 (ipykernel)",
   "language": "python",
   "name": "python3"
  },
  "language_info": {
   "codemirror_mode": {
    "name": "ipython",
    "version": 3
   },
   "file_extension": ".py",
   "mimetype": "text/x-python",
   "name": "python",
   "nbconvert_exporter": "python",
   "pygments_lexer": "ipython3",
   "version": "3.9.12"
  }
 },
 "nbformat": 4,
 "nbformat_minor": 5
}
